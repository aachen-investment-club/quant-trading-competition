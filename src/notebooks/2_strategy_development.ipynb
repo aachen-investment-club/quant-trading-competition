{
 "cells": [
  {
   "cell_type": "markdown",
   "id": "65619aab",
   "metadata": {},
   "source": [
    "# 2 – Strategy Development (export to `submission.py`)"
   ]
  },
  {
   "cell_type": "code",
   "execution_count": null,
   "id": "fb04b3c0",
   "metadata": {},
   "outputs": [],
   "source": [
    "import sys\n",
    "sys.path.append('../..')\n",
    "import pandas as pd\n",
    "from src.evaluation import evaluate\n",
    "from submission.submission import build_strategy\n",
    "\n",
    "df = pd.read_csv('../../data/historical_data_EURUSD_1H_2022-01-01_2023-01-01.csv', parse_dates=['time']).set_index('time')\n",
    "strategy = build_strategy()\n",
    "strategy.fit(df)\n",
    "signals = strategy.generate_signals(df)\n",
    "metrics = evaluate(signals, df, cost_bps=1.0)\n",
    "metrics"
   ]
  },
  {
   "cell_type": "markdown",
   "id": "c5a8be43",
   "metadata": {},
   "source": [
    "## Export your final strategy\n",
    "Use the magic cell below to **overwrite** `submission/submission.py` with your final implementation.\n",
    "Make sure it defines `build_strategy()`."
   ]
  },
  {
   "cell_type": "code",
   "execution_count": null,
   "id": "5008884e",
   "metadata": {},
   "outputs": [],
   "source": [
    "%%writefile ../../submission/submission.py\n",
    "from src.interfaces import Strategy\n",
    "import pandas as pd\n",
    "from src.features import sma\n",
    "\n",
    "class MyStrategy(Strategy):\n",
    "    def fit(self, df: pd.DataFrame) -> None:\n",
    "        pass\n",
    "\n",
    "    def generate_signals(self, df: pd.DataFrame) -> pd.Series:\n",
    "        px = df['close'].astype(float)\n",
    "        sig = (px.pct_change().fillna(0) > 0).astype(int) - (px.pct_change().fillna(0) < 0).astype(int)\n",
    "        return sig.rename('signal')\n",
    "\n",
    "def build_strategy():\n",
    "    return MyStrategy()\n"
   ]
  },
  {
   "cell_type": "markdown",
   "id": "2717cec0",
   "metadata": {},
   "source": [
    "Re-run the evaluation cell above to validate your metrics locally."
   ]
  }
 ],
 "metadata": {
  "kernelspec": {
   "display_name": "Python 3 (ipykernel)",
   "language": "python",
   "name": "python3"
  },
  "language_info": {
   "codemirror_mode": {
    "name": "ipython",
    "version": 3
   },
   "file_extension": ".py",
   "mimetype": "text/x-python",
   "name": "python",
   "nbconvert_exporter": "python",
   "pygments_lexer": "ipython3",
   "version": "3.10.18"
  }
 },
 "nbformat": 4,
 "nbformat_minor": 5
}
