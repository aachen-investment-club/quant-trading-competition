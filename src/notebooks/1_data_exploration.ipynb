{
 "cells": [
  {
   "cell_type": "markdown",
   "id": "98b90d63",
   "metadata": {},
   "source": [
    "# 1 – Data Exploration"
   ]
  },
  {
   "cell_type": "code",
   "execution_count": null,
   "id": "390636f9",
   "metadata": {},
   "outputs": [],
   "source": [
    "import pandas as pd\n",
    "import matplotlib.pyplot as plt\n",
    "\n",
    "df = pd.read_csv('../data/historical_data_EURUSD_1H_2022-01-01_2023-01-01.csv.csv', parse_dates=['timestamp']).set_index('timestamp')\n",
    "df.head()"
   ]
  },
  {
   "cell_type": "code",
   "execution_count": null,
   "id": "62f47686",
   "metadata": {},
   "outputs": [],
   "source": [
    "df['close'].plot(figsize=(10,3))\n",
    "plt.title('Close price')\n",
    "plt.show()"
   ]
  },
  {
   "cell_type": "markdown",
   "id": "1d9eb692",
   "metadata": {},
   "source": [
    "Explore features, check missing values, etc."
   ]
  }
 ],
 "metadata": {
  "kernelspec": {
   "display_name": "Python 3 (ipykernel)",
   "language": "python",
   "name": "python3"
  },
  "language_info": {
   "codemirror_mode": {
    "name": "ipython",
    "version": 3
   },
   "file_extension": ".py",
   "mimetype": "text/x-python",
   "name": "python",
   "nbconvert_exporter": "python",
   "pygments_lexer": "ipython3",
   "version": "3.10.18"
  }
 },
 "nbformat": 4,
 "nbformat_minor": 5
}
