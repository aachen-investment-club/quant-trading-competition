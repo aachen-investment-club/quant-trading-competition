{
 "cells": [
  {
   "cell_type": "markdown",
   "id": "65619aab",
   "metadata": {},
   "source": [
    "# 2 – Strategy Development (export to `submission.py`)"
   ]
  },
  {
   "cell_type": "code",
   "execution_count": null,
   "id": "fb04b3c0",
   "metadata": {},
   "outputs": [],
   "source": [
    "import pandas as pd\n",
    "from src.evaluation import evaluate\n",
    "from submission.submission import build_strategy\n",
    "\n",
    "df = pd.read_csv('../data/historical_data_EURUSD_1H_2022-01-01_2023-01-01.csv', parse_dates=['timestamp']).set_index('timestamp')\n",
    "strategy = build_strategy()\n",
    "strategy.fit(df)\n",
    "signals = strategy.generate_signals(df)\n",
    "metrics = evaluate(signals, df, cost_bps=1.0)\n",
    "metrics"
   ]
  },
  {
   "cell_type": "markdown",
   "id": "c5a8be43",
   "metadata": {},
   "source": [
    "## Export your final strategy\n",
    "Use the magic cell below to **overwrite** `submission/submission.py` with your final implementation.\n",
    "Make sure it defines `build_strategy()`."
   ]
  },
  {
   "cell_type": "code",
   "execution_count": null,
   "id": "5008884e",
   "metadata": {},
   "outputs": [],
   "source": [
    "%%writefile ../submission/submission.py\n",
    "from src.interfaces import Strategy\n",
    "import pandas as pd\n",
    "from src.some_helper_module import sma\n",
    "\n",
    "class MyStrategy(Strategy):\n",
    "    def fit(self, df: pd.DataFrame) -> None:\n",
    "        pass\n",
    "\n",
    "    def generate_signals(self, df: pd.DataFrame) -> pd.Series:\n",
    "        px = df['close'].astype(float)\n",
    "        sig = (px.pct_change().fillna(0) > 0).astype(int) - (px.pct_change().fillna(0) < 0).astype(int)\n",
    "        return sig.rename('signal')\n",
    "\n",
    "def build_strategy():\n",
    "    return MyStrategy()\n"
   ]
  },
  {
   "cell_type": "markdown",
   "id": "2717cec0",
   "metadata": {},
   "source": [
    "Re-run the evaluation cell above to validate your metrics locally."
   ]
  }
 ],
 "metadata": {
  "language_info": {
   "name": "python"
  }
 },
 "nbformat": 4,
 "nbformat_minor": 5
}
